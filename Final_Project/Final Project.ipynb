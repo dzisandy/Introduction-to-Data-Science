{
 "cells": [
  {
   "cell_type": "code",
   "execution_count": 14,
   "metadata": {
    "slideshow": {
     "slide_type": "-"
    }
   },
   "outputs": [],
   "source": [
    "import numpy as np\n",
    "import pandas as pd\n",
    "import pickle\n",
    "import os\n",
    "from pathlib import Path\n",
    "import matplotlib.pyplot as plt\n",
    "from scipy import signal"
   ]
  },
  {
   "cell_type": "code",
   "execution_count": 15,
   "metadata": {},
   "outputs": [
    {
     "name": "stdout",
     "output_type": "stream",
     "text": [
      "OK /Users/dzisandy/Introduction-to-Data-Science/Final_Project/WESAD/S5/S5.pkl\n",
      "OK /Users/dzisandy/Introduction-to-Data-Science/Final_Project/WESAD/S2/S2.pkl\n",
      "OK /Users/dzisandy/Introduction-to-Data-Science/Final_Project/WESAD/S3/S3.pkl\n",
      "OK /Users/dzisandy/Introduction-to-Data-Science/Final_Project/WESAD/S4/S4.pkl\n",
      "OK /Users/dzisandy/Introduction-to-Data-Science/Final_Project/WESAD/S17/S17.pkl\n",
      "OK /Users/dzisandy/Introduction-to-Data-Science/Final_Project/WESAD/S10/S10.pkl\n",
      "OK /Users/dzisandy/Introduction-to-Data-Science/Final_Project/WESAD/S11/S11.pkl\n",
      "OK /Users/dzisandy/Introduction-to-Data-Science/Final_Project/WESAD/S16/S16.pkl\n",
      "OK /Users/dzisandy/Introduction-to-Data-Science/Final_Project/WESAD/S8/S8.pkl\n",
      "OK /Users/dzisandy/Introduction-to-Data-Science/Final_Project/WESAD/S6/S6.pkl\n",
      "OK /Users/dzisandy/Introduction-to-Data-Science/Final_Project/WESAD/S7/S7.pkl\n",
      "OK /Users/dzisandy/Introduction-to-Data-Science/Final_Project/WESAD/S9/S9.pkl\n",
      "OK /Users/dzisandy/Introduction-to-Data-Science/Final_Project/WESAD/S13/S13.pkl\n",
      "OK /Users/dzisandy/Introduction-to-Data-Science/Final_Project/WESAD/S14/S14.pkl\n",
      "OK /Users/dzisandy/Introduction-to-Data-Science/Final_Project/WESAD/S15/S15.pkl\n"
     ]
    }
   ],
   "source": [
    "path = os.listdir('/Users/dzisandy/Introduction-to-Data-Science/Final_Project/WESAD/')\n",
    "for items in path:\n",
    "    path = Path('/Users/dzisandy/Introduction-to-Data-Science/Final_Project/WESAD/' + items+'/' + items+'.pkl')\n",
    "    if path.exists():\n",
    "        print('OK', path)\n",
    "        #with open(path, 'rb') as f:\n",
    "            #data = pickle.load(f, encoding='bytes' )\n",
    "            #print(data)\n",
    "    else:\n",
    "        continue"
   ]
  },
  {
   "cell_type": "code",
   "execution_count": 16,
   "metadata": {},
   "outputs": [],
   "source": [
    "with open('/Users/dzisandy/Introduction-to-Data-Science/Final_Project/WESAD/S8/S8.pkl', 'rb') as f:\n",
    "    data = pickle.load(f, encoding='bytes' )\n"
   ]
  },
  {
   "cell_type": "code",
   "execution_count": 100,
   "metadata": {},
   "outputs": [],
   "source": [
    "def MSRS(data,name,f):\n",
    "    i_025 = int(f*0.25)\n",
    "    i_60 = int(f*60)\n",
    "    i = 0\n",
    "    start = 0\n",
    "    end = i_60\n",
    "    mean = []\n",
    "    std = []\n",
    "    dynamic_range = []\n",
    "    slope = []\n",
    "    while i*i_025 + i_60 < int(len(data)):\n",
    "        mean.append(data[start:end+1].mean())\n",
    "        std.append(data[start:end+1].std())\n",
    "        dynamic_range.append(20*np.log10(data[start:end+1].max()/data[start:end+1].min()))\n",
    "        slope.append((float(data[end+1]) - float(data[start])))\n",
    "        i += 1\n",
    "        start = i*i_025\n",
    "        end = i*i_025 + i_60\n",
    "    return {'mean_{}'.format(name): mean,'std_{}'.format(name):std,'dynamic_range_{}'.format(name):dynamic_range,'slope_{}'.format(name):slope}"
   ]
  },
  {
   "cell_type": "code",
   "execution_count": 18,
   "metadata": {},
   "outputs": [],
   "source": [
    " def decompose_eda(eda):\n",
    "        scr_list  = []\n",
    "        b,a = signal.butter(4,0.5/2)\n",
    "        gsr_filt = signal.filtfilt(b,a,eda,axis=0)\n",
    "        b,a = signal.butter(4,0.5/2,'highpass')\n",
    "        scr = signal.filtfilt(b,a,gsr_filt,axis=0)\n",
    "        scl = [float(x-y) for x,y in zip(gsr_filt,scr)]\n",
    "        for i in range(len(scr)):\n",
    "            scr_list.append(scr[i][0])\n",
    "        return scr_list,scl"
   ]
  },
  {
   "cell_type": "code",
   "execution_count": 58,
   "metadata": {},
   "outputs": [],
   "source": [
    "def SCRL(scr,scl,f):\n",
    "    scr = np.array(scr)\n",
    "    scl = np.array(scl)\n",
    "    i_025 = int(f*0.25)\n",
    "    i_60 = int(f*60)\n",
    "    i = 0\n",
    "    start = 0\n",
    "    end = i_60\n",
    "    mean_l = np.empty(int((len(scr) - i_60)/i_025))\n",
    "    mean_r = np.empty(int((len(scr) - i_60)/i_025))\n",
    "    std_l = np.empty(int((len(scr) - i_60)/i_025))\n",
    "    std_r = np.empty(int((len(scr) - i_60)/i_025))\n",
    "    peaks = np.empty(int((len(scr) - i_60)/i_025))\n",
    "    out = {}\n",
    "    while i*i_025 + i_60 < int(len(scr)):\n",
    "        mean_r[i] = scr[start:end+1].mean()\n",
    "        std_r[i] = scr[start:end+1].std()\n",
    "        mean_l[i] = scl[start:end+1].mean()\n",
    "        std_l[i] = scl[start:end+1].std()\n",
    "        peaks[i] = len(signal.find_peaks(scr[start:end+1])[0])\n",
    "        #if i % 100 ==0: \n",
    "        #    print(i)\n",
    "        i += 1\n",
    "        start = i*i_025\n",
    "        end = i*i_025 + i_60\n",
    "    return {'mean_r': mean_r,'mean_l': mean_l,'std_r':std_r,'std_l':std_l,'peaks':peaks}\n",
    "    "
   ]
  },
  {
   "cell_type": "code",
   "execution_count": 59,
   "metadata": {},
   "outputs": [],
   "source": [
    "scr, scl = decompose_eda(data[b'signal'][b'chest'][b'EDA'])"
   ]
  },
  {
   "cell_type": "code",
   "execution_count": 60,
   "metadata": {
    "scrolled": false
   },
   "outputs": [],
   "source": [
    "indo = SCRL(scr,scl,700)"
   ]
  },
  {
   "cell_type": "code",
   "execution_count": 224,
   "metadata": {},
   "outputs": [],
   "source": [
    "def arrays_to_list(data):\n",
    "    lists = []\n",
    "    for i in range(len(data)):\n",
    "        lists.append(emg[i][0])\n",
    "    return lists"
   ]
  },
  {
   "cell_type": "code",
   "execution_count": 102,
   "metadata": {},
   "outputs": [
    {
     "data": {
      "text/plain": [
       "dict_keys(['mean_Temp', 'std_Temp', 'dynamic_range_Temp', 'slope_Temp'])"
      ]
     },
     "execution_count": 102,
     "metadata": {},
     "output_type": "execute_result"
    }
   ],
   "source": [
    "# TEMP(data[b'signal'][b'chest'][b'Temp'],700)\n",
    "dat = MSRS(data[b'signal'][b'chest'][b'Temp'],'Temp',700)\n",
    "dat.keys()\n"
   ]
  },
  {
   "cell_type": "code",
   "execution_count": null,
   "metadata": {},
   "outputs": [],
   "source": []
  }
 ],
 "metadata": {
  "kernelspec": {
   "display_name": "Python 3",
   "language": "python",
   "name": "python3"
  },
  "language_info": {
   "codemirror_mode": {
    "name": "ipython",
    "version": 3
   },
   "file_extension": ".py",
   "mimetype": "text/x-python",
   "name": "python",
   "nbconvert_exporter": "python",
   "pygments_lexer": "ipython3",
   "version": "3.6.5"
  }
 },
 "nbformat": 4,
 "nbformat_minor": 2
}
